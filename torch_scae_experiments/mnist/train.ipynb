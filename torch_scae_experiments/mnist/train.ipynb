{
 "cells": [
  {
   "cell_type": "code",
   "execution_count": 0,
   "metadata": {
    "colab": {},
    "colab_type": "code",
    "id": "GhA7_OSnk3OP"
   },
   "outputs": [],
   "source": [
    "%%shell\n",
    "\n",
    "rm -rf ./torch-scae\n",
    "git clone https://github.com/bdsaglam/torch-scae\n",
    "cd ./torch-scae\n",
    "pip install -q ."
   ]
  },
  {
   "cell_type": "code",
   "execution_count": 0,
   "metadata": {
    "colab": {},
    "colab_type": "code",
    "id": "-sPIju7iqTke"
   },
   "outputs": [],
   "source": [
    "%load_ext tensorboard\n",
    "\n",
    "!mkdir /content/lightning_logs\n",
    "%tensorboard --logdir '/content/lightning_logs'"
   ]
  },
  {
   "cell_type": "code",
   "execution_count": 1,
   "metadata": {
    "colab": {},
    "colab_type": "code",
    "id": "dt4NYPbMB9Hw"
   },
   "outputs": [
    {
     "data": {
      "text/plain": [
       "42"
      ]
     },
     "execution_count": 1,
     "metadata": {},
     "output_type": "execute_result"
    }
   ],
   "source": [
    "import pathlib\n",
    "\n",
    "import numpy as np\n",
    "import torch\n",
    "import torchvision\n",
    "import torch_scae_experiments\n",
    "from torch_scae_experiments.mnist.train import train\n",
    "from pytorch_lightning import seed_everything\n",
    "\n",
    "seed_everything(42)"
   ]
  },
  {
   "cell_type": "code",
   "execution_count": 4,
   "metadata": {},
   "outputs": [],
   "source": [
    "import hydra\n",
    "import hydra.experimental\n",
    "from omegaconf import OmegaConf"
   ]
  },
  {
   "cell_type": "code",
   "execution_count": 5,
   "metadata": {},
   "outputs": [],
   "source": [
    "import pkg_resources\n",
    "configs_dir = pkg_resources.resource_filename('torch_scae_experiments', 'configs')"
   ]
  },
  {
   "cell_type": "code",
   "execution_count": 6,
   "metadata": {},
   "outputs": [],
   "source": [
    "dataset_dir = str(pathlib.Path.home() / 'torch-datasets')"
   ]
  },
  {
   "cell_type": "code",
   "execution_count": 19,
   "metadata": {
    "scrolled": false
   },
   "outputs": [
    {
     "name": "stdout",
     "output_type": "stream",
     "text": [
      "seed: 42\n",
      "data_loader:\n",
      "  batch_size: 128\n",
      "  num_workers: 2\n",
      "dataset:\n",
      "  directory: /Users/bdsaglam/torch-datasets\n",
      "meta_optimizer:\n",
      "  look_ahead: false\n",
      "  look_ahead_k: 5\n",
      "  look_ahead_alpha: 0.5\n",
      "lr_scheduler:\n",
      "  active: true\n",
      "  decay_rate: 0.997t\n",
      "trainer:\n",
      "  max_epochs: 100\n",
      "  gradient_clip_val: 0\n",
      "  gpus: 1\n",
      "optimizer:\n",
      "  type: RMSprop\n",
      "  learning_rate: 3.0e-05\n",
      "  momentum: 0.9\n",
      "  weight_decay: 0.0\n",
      "model:\n",
      "  image_shape:\n",
      "  - 1\n",
      "  - 40\n",
      "  - 40\n",
      "  n_classes: 10\n",
      "  n_obj_caps: 32\n",
      "  n_part_caps: 40\n",
      "  ocae_decoder_capsule_params:\n",
      "    allow_deformations: true\n",
      "    caps_dropout_rate: 0.0\n",
      "    dim_caps: 32\n",
      "    hidden_sizes:\n",
      "    - 128\n",
      "    learn_vote_scale: true\n",
      "    noise_scale: 4.0\n",
      "    noise_type: uniform\n",
      "    similarity_transform: false\n",
      "  ocae_encoder_set_transformer_params:\n",
      "    dim_hidden: 16\n",
      "    dim_out: 256\n",
      "    layer_norm: true\n",
      "    n_heads: 1\n",
      "    n_layers: 3\n",
      "  pcae_cnn_encoder_params:\n",
      "    activate_final: true\n",
      "    kernel_sizes:\n",
      "    - 3\n",
      "    - 3\n",
      "    - 3\n",
      "    - 3\n",
      "    out_channels:\n",
      "    - 128\n",
      "    - 128\n",
      "    - 128\n",
      "    - 128\n",
      "    strides:\n",
      "    - 2\n",
      "    - 2\n",
      "    - 1\n",
      "    - 1\n",
      "  pcae_decoder_params:\n",
      "    background_value: true\n",
      "    learn_output_scale: false\n",
      "    use_alpha_channel: true\n",
      "  pcae_encoder_params:\n",
      "    n_poses: 6\n",
      "    n_special_features: 16\n",
      "    similarity_transform: false\n",
      "  pcae_template_generator_params:\n",
      "    color_nonlin: sigmoid\n",
      "    colorize_templates: true\n",
      "    template_nonlin: sigmoid\n",
      "    template_size:\n",
      "    - 11\n",
      "    - 11\n",
      "  scae_params:\n",
      "    caps_ll_weight: 1.0\n",
      "    cpr_dynamic_reg_weight: 10\n",
      "    posterior_between_example_sparsity_weight: 0.2\n",
      "    posterior_sparsity_loss_type: entropy\n",
      "    posterior_within_example_sparsity_weight: 0.7\n",
      "    presence_type: enc\n",
      "    prior_between_example_sparsity_weight: 0.35\n",
      "    prior_sparsity_loss_type: l2\n",
      "    prior_within_example_sparsity_weight: 2.0\n",
      "    reconstruct_alternatives: false\n",
      "    stop_grad_caps_input: true\n",
      "    stop_grad_caps_target: true\n",
      "    vote_type: enc\n",
      "\n"
     ]
    }
   ],
   "source": [
    "with hydra.experimental.initialize_config_dir(config_dir=str(configs_dir)):\n",
    "        cfg = hydra.experimental.compose(\n",
    "            config_name=\"config\",\n",
    "            # Customize some params\n",
    "            overrides=[\n",
    "                f\"dataset.directory={dataset_dir}\", \n",
    "                \"trainer.max_epochs=500\", # change an existing param\n",
    "                \"+trainer.gpus=1\", # add a non-existing param with +\n",
    "            ]\n",
    "        )\n",
    "        OmegaConf.set_struct(cfg, False) # to be able to modify it later\n",
    "        print(OmegaConf.to_yaml(cfg))\n",
    "        "
   ]
  },
  {
   "cell_type": "code",
   "execution_count": 12,
   "metadata": {},
   "outputs": [],
   "source": [
    "from torch_scae_experiments.mnist.train import train"
   ]
  },
  {
   "cell_type": "code",
   "execution_count": null,
   "metadata": {},
   "outputs": [],
   "source": [
    "torch.cuda.reset_max_memory_cached()\n",
    "torch.cuda.reset_max_memory_allocated()\n",
    "torch.cuda.reset_accumulated_memory_stats()\n",
    "\n",
    "train(cfg)"
   ]
  },
  {
   "cell_type": "code",
   "execution_count": 0,
   "metadata": {
    "colab": {},
    "colab_type": "code",
    "id": "qJPnbxvvDRnS"
   },
   "outputs": [],
   "source": [
    "# resume training\n",
    "cfg.trainer.update(\n",
    "    resume_from_checkpoint='/content/lightning_logs/version_0/checkpoints/epoch=99.ckpt',\n",
    "    max_epochs=700,\n",
    ")\n",
    "\n",
    "train(cfg)"
   ]
  },
  {
   "cell_type": "code",
   "execution_count": 0,
   "metadata": {
    "colab": {},
    "colab_type": "code",
    "id": "ybABn0XqjbcW"
   },
   "outputs": [],
   "source": []
  }
 ],
 "metadata": {
  "accelerator": "GPU",
  "colab": {
   "collapsed_sections": [],
   "name": "torch_scae_lightning.ipynb",
   "provenance": [],
   "toc_visible": true
  },
  "kernelspec": {
   "display_name": "Python 3",
   "language": "python",
   "name": "python3"
  },
  "language_info": {
   "codemirror_mode": {
    "name": "ipython",
    "version": 3
   },
   "file_extension": ".py",
   "mimetype": "text/x-python",
   "name": "python",
   "nbconvert_exporter": "python",
   "pygments_lexer": "ipython3",
   "version": "3.7.7"
  }
 },
 "nbformat": 4,
 "nbformat_minor": 1
}
