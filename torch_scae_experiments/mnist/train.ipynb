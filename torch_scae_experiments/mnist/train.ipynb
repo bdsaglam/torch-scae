{
 "cells": [
  {
   "cell_type": "code",
   "execution_count": 0,
   "metadata": {
    "colab": {},
    "colab_type": "code",
    "id": "GhA7_OSnk3OP"
   },
   "outputs": [],
   "source": [
    "%%shell\n",
    "\n",
    "rm -rf ./torch-scae\n",
    "git clone https://github.com/bdsaglam/torch-scae\n",
    "cd ./torch-scae\n",
    "pip install -q ."
   ]
  },
  {
   "cell_type": "code",
   "execution_count": 0,
   "metadata": {
    "colab": {},
    "colab_type": "code",
    "id": "-sPIju7iqTke"
   },
   "outputs": [],
   "source": [
    "%load_ext tensorboard\n",
    "\n",
    "!mkdir /content/lightning_logs\n",
    "%tensorboard --logdir '/content/lightning_logs'"
   ]
  },
  {
   "cell_type": "code",
   "execution_count": 0,
   "metadata": {
    "colab": {},
    "colab_type": "code",
    "id": "dt4NYPbMB9Hw"
   },
   "outputs": [],
   "source": [
    "import pathlib\n",
    "\n",
    "import numpy as np\n",
    "import torch\n",
    "import torchvision\n",
    "from torch_scae_experiments.mnist.train import train\n",
    "from torch_scae_experiments.mnist.hparams import model_params\n",
    "from pytorch_lightning import seed_everything\n",
    "\n",
    "seed_everything(42)"
   ]
  },
  {
   "cell_type": "code",
   "execution_count": 0,
   "metadata": {
    "colab": {},
    "colab_type": "code",
    "id": "3wTKz0LFC7KA"
   },
   "outputs": [],
   "source": [
    "from pprint import pprint\n",
    "\n",
    "pprint(model_params)"
   ]
  },
  {
   "cell_type": "code",
   "execution_count": 0,
   "metadata": {
    "colab": {},
    "colab_type": "code",
    "id": "ZR9HargqB3OE"
   },
   "outputs": [],
   "source": [
    "# Customize model parameters\n",
    "\n",
    "# model_params.update(dict(\n",
    "#     n_part_caps=36,\n",
    "#     n_obj_caps=10,\n",
    "#     pcae_template_generator_params=dict(\n",
    "#         template_size=(11, 11),\n",
    "#         template_nonlin='sigmoid',\n",
    "#         colorize_templates=False,\n",
    "#     ),\n",
    "#     scae_params=dict(\n",
    "#         posterior_sparsity_loss_type='entropy',\n",
    "#         posterior_within_example_sparsity_weight=1,\n",
    "#         posterior_between_example_sparsity_weight=1,\n",
    "#     )\n",
    "# ))"
   ]
  },
  {
   "cell_type": "code",
   "execution_count": 0,
   "metadata": {
    "colab": {},
    "colab_type": "code",
    "id": "3iywniQBukSp"
   },
   "outputs": [],
   "source": [
    "training_params = dict(\n",
    "    data_dir=str(pathlib.Path.home() / 'torch-datasets'),\n",
    "    gpus=1,\n",
    "    batch_size=128,\n",
    "    num_workers=2,\n",
    "    max_epochs=100,\n",
    "    learning_rate=3e-5,\n",
    "    optimizer_type='RMSprop',\n",
    "    use_lr_scheduler=True,\n",
    "    lr_scheduler_decay_rate=0.997\n",
    ")"
   ]
  },
  {
   "cell_type": "code",
   "execution_count": 3,
   "metadata": {},
   "outputs": [
    {
     "ename": "AttributeError",
     "evalue": "module 'hydra' has no attribute 'initialize'",
     "output_type": "error",
     "traceback": [
      "\u001b[0;31m---------------------------------------------------------------------------\u001b[0m",
      "\u001b[0;31mAttributeError\u001b[0m                            Traceback (most recent call last)",
      "\u001b[0;32m<ipython-input-3-7b4aa5b5049b>\u001b[0m in \u001b[0;36m<module>\u001b[0;34m\u001b[0m\n\u001b[1;32m      4\u001b[0m \u001b[0;34m\u001b[0m\u001b[0m\n\u001b[1;32m      5\u001b[0m \u001b[0mconfig_dir\u001b[0m \u001b[0;34m=\u001b[0m \u001b[0mpathlib\u001b[0m\u001b[0;34m.\u001b[0m\u001b[0mPath\u001b[0m\u001b[0;34m(\u001b[0m\u001b[0;34m'./torch-scae/torch-scae-experiments/configs/config.yaml'\u001b[0m\u001b[0;34m)\u001b[0m\u001b[0;34m\u001b[0m\u001b[0;34m\u001b[0m\u001b[0m\n\u001b[0;32m----> 6\u001b[0;31m \u001b[0mhydra\u001b[0m\u001b[0;34m.\u001b[0m\u001b[0minitialize\u001b[0m\u001b[0;34m(\u001b[0m\u001b[0mconfig_dir\u001b[0m\u001b[0;34m=\u001b[0m\u001b[0mconfig_dir\u001b[0m\u001b[0;34m)\u001b[0m\u001b[0;34m\u001b[0m\u001b[0;34m\u001b[0m\u001b[0m\n\u001b[0m\u001b[1;32m      7\u001b[0m \u001b[0;34m\u001b[0m\u001b[0m\n\u001b[1;32m      8\u001b[0m \u001b[0mcfg\u001b[0m \u001b[0;34m=\u001b[0m \u001b[0mhydra\u001b[0m\u001b[0;34m.\u001b[0m\u001b[0mcompose\u001b[0m\u001b[0;34m(\u001b[0m\u001b[0mconfig_file\u001b[0m\u001b[0;34m=\u001b[0m\u001b[0;34m'config.yaml'\u001b[0m\u001b[0;34m,\u001b[0m \u001b[0moverrides\u001b[0m\u001b[0;34m=\u001b[0m\u001b[0;34m[\u001b[0m\u001b[0;34m]\u001b[0m\u001b[0;34m)\u001b[0m\u001b[0;34m\u001b[0m\u001b[0;34m\u001b[0m\u001b[0m\n",
      "\u001b[0;31mAttributeError\u001b[0m: module 'hydra' has no attribute 'initialize'"
     ]
    }
   ],
   "source": [
    "import pathlib\n",
    "import hydra\n",
    "\n",
    "hydra._internal.hydra.GlobalHydra().clear()\n",
    "\n",
    "config_dir = pathlib.Path('./torch-scae/torch-scae-experiments/configs/config.yaml')\n",
    "hydra.experimental.initialize(config_dir=config_dir)\n",
    "\n",
    "cfg = hydra.experimental.compose(config_file='config.yaml', overrides=[])\n",
    "print(cfg.pretty())"
   ]
  },
  {
   "cell_type": "code",
   "execution_count": 12,
   "metadata": {},
   "outputs": [
    {
     "name": "stdout",
     "output_type": "stream",
     "text": [
      "Object `hydra.compose` not found.\n"
     ]
    }
   ],
   "source": []
  },
  {
   "cell_type": "code",
   "execution_count": 4,
   "metadata": {},
   "outputs": [],
   "source": [
    "import torch_scae"
   ]
  },
  {
   "cell_type": "code",
   "execution_count": 9,
   "metadata": {},
   "outputs": [],
   "source": [
    "import torch_scae_experiments"
   ]
  },
  {
   "cell_type": "code",
   "execution_count": 6,
   "metadata": {},
   "outputs": [],
   "source": [
    "import pathlib"
   ]
  },
  {
   "cell_type": "code",
   "execution_count": 10,
   "metadata": {},
   "outputs": [],
   "source": [
    "directory = pathlib.Path(torch_scae_experiments.__file__).parent"
   ]
  },
  {
   "cell_type": "code",
   "execution_count": 11,
   "metadata": {},
   "outputs": [
    {
     "data": {
      "text/plain": [
       "[PosixPath('/Users/bdsaglam/anaconda3/envs/ml/lib/python3.7/site-packages/torch_scae_experiments/mnist'),\n",
       " PosixPath('/Users/bdsaglam/anaconda3/envs/ml/lib/python3.7/site-packages/torch_scae_experiments/__init__.py'),\n",
       " PosixPath('/Users/bdsaglam/anaconda3/envs/ml/lib/python3.7/site-packages/torch_scae_experiments/__pycache__')]"
      ]
     },
     "execution_count": 11,
     "metadata": {},
     "output_type": "execute_result"
    }
   ],
   "source": [
    "list(directory.iterdir())"
   ]
  },
  {
   "cell_type": "code",
   "execution_count": null,
   "metadata": {},
   "outputs": [],
   "source": [
    "from torch_scae_experiments.mnist.train import train"
   ]
  },
  {
   "cell_type": "code",
   "execution_count": 0,
   "metadata": {
    "colab": {},
    "colab_type": "code",
    "id": "sEQxMoM6xYSc",
    "scrolled": true
   },
   "outputs": [],
   "source": [
    "torch.cuda.reset_max_memory_cached()\n",
    "torch.cuda.reset_max_memory_allocated()\n",
    "torch.cuda.reset_accumulated_memory_stats()\n",
    "\n",
    "train(model_params, **training_params)"
   ]
  },
  {
   "cell_type": "code",
   "execution_count": 0,
   "metadata": {
    "colab": {},
    "colab_type": "code",
    "id": "qJPnbxvvDRnS"
   },
   "outputs": [],
   "source": [
    "# resume training\n",
    "training_params.update(\n",
    "    max_epochs=200,\n",
    "    resume_from_checkpoint= '/content/lightning_logs/version_0/checkpoints/epoch=99.ckpt')\n",
    ")\n",
    "train(model_params, **training_params)"
   ]
  },
  {
   "cell_type": "code",
   "execution_count": 0,
   "metadata": {
    "colab": {},
    "colab_type": "code",
    "id": "ybABn0XqjbcW"
   },
   "outputs": [],
   "source": []
  }
 ],
 "metadata": {
  "accelerator": "GPU",
  "colab": {
   "collapsed_sections": [],
   "name": "torch_scae_lightning.ipynb",
   "provenance": [],
   "toc_visible": true
  },
  "kernelspec": {
   "display_name": "Python 3",
   "language": "python",
   "name": "python3"
  },
  "language_info": {
   "codemirror_mode": {
    "name": "ipython",
    "version": 3
   },
   "file_extension": ".py",
   "mimetype": "text/x-python",
   "name": "python",
   "nbconvert_exporter": "python",
   "pygments_lexer": "ipython3",
   "version": "3.7.4"
  }
 },
 "nbformat": 4,
 "nbformat_minor": 1
}
